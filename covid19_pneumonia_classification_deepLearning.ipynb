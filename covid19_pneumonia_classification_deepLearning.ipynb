{
  "nbformat": 4,
  "nbformat_minor": 0,
  "metadata": {
    "colab": {
      "name": "covid19_pneumonia_classification_deepLearning.ipynb",
      "provenance": [],
      "collapsed_sections": [],
      "authorship_tag": "ABX9TyNi1EULXe3fh3RqxrM7Pjrf",
      "include_colab_link": true
    },
    "kernelspec": {
      "name": "python3",
      "display_name": "Python 3"
    },
    "language_info": {
      "name": "python"
    },
    "accelerator": "GPU"
  },
  "cells": [
    {
      "cell_type": "markdown",
      "metadata": {
        "id": "view-in-github",
        "colab_type": "text"
      },
      "source": [
        "<a href=\"https://colab.research.google.com/github/mannb986/covid19_pneumonia_classification/blob/main/covid19_pneumonia_classification_deepLearning.ipynb\" target=\"_parent\"><img src=\"https://colab.research.google.com/assets/colab-badge.svg\" alt=\"Open In Colab\"/></a>"
      ]
    },
    {
      "cell_type": "markdown",
      "metadata": {
        "id": "EpTrTXvZmWXI"
      },
      "source": [
        "# Covid-19 and Pneumonia Classification with Deep Learning\n",
        "\n",
        "The task here is to develop a learning model to support doctors with diagnosing illnesses that affect patients' lungs. I will use a set of data provided that is X-rays of lung scans with examples of patients who had either pneumonia, COVID-19, or no illness. \n",
        "\n",
        "Using Keras module, I will create a classification model that outputs a diagnosis based on a patient's X-ray scan. \n",
        "\n"
      ]
    },
    {
      "cell_type": "markdown",
      "metadata": {
        "id": "6M-pRMxVpn4w"
      },
      "source": [
        "## Libraries"
      ]
    },
    {
      "cell_type": "code",
      "metadata": {
        "id": "T265DClVpr7j"
      },
      "source": [
        "import tensorflow as tf\n",
        "from tensorflow import keras\n",
        "from tensorflow.keras.models import Sequential\n",
        "from tensorflow.keras.layers import Dense, Conv2D, Flatten, Dropout, MaxPooling2D\n",
        "from tensorflow.keras.preprocessing.image import ImageDataGenerator\n",
        "from tensorflow.keras.callbacks import EarlyStopping\n",
        "from tensorflow.keras.layers import InputLayer\n",
        "\n",
        "import os\n",
        "import numpy as np\n",
        "import matplotlib.pyplot as plt"
      ],
      "execution_count": 1,
      "outputs": []
    },
    {
      "cell_type": "markdown",
      "metadata": {
        "id": "8sJGEuHTnF4s"
      },
      "source": [
        "## Importing from Google Drive\n",
        "\n",
        "The file is archived as a ZIP file in Google Drive (in the same folder as this Colab notebook). It is set as shared and the shared link used below.\n",
        "\n",
        "Note the original folder structure:\n",
        "\n",
        "* Train\n",
        "  * Covid\n",
        "  * Normal\n",
        "  * Pneumonia\n",
        "\n",
        "* Test\n",
        "  * Covid\n",
        "  * Normal\n",
        "  * Pneumonia\n",
        "\n",
        "Make sure that the sub-folders have exactly the same names (and cases, i.e. each sub-folder name starts with an uppercase letter).\n",
        "\n",
        "The images were originally stored in the structure above inside a folder named classification-challenge. This folder was compressed as a ZIP file and uploaded to Google Drive."
      ]
    },
    {
      "cell_type": "code",
      "metadata": {
        "id": "THj1TGncndkd"
      },
      "source": [
        "!pip install -U -q PyDrive\n",
        "from pydrive.auth import GoogleAuth\n",
        "from pydrive.drive import GoogleDrive\n",
        "from google.colab import auth\n",
        "from oauth2client.client import GoogleCredentials"
      ],
      "execution_count": 2,
      "outputs": []
    },
    {
      "cell_type": "code",
      "metadata": {
        "id": "vFBtICZ9DeP9"
      },
      "source": [
        "auth.authenticate_user()\n",
        "gauth = GoogleAuth()\n",
        "gauth.credentials = GoogleCredentials.get_application_default()\n",
        "drive = GoogleDrive(gauth)"
      ],
      "execution_count": 3,
      "outputs": []
    },
    {
      "cell_type": "code",
      "metadata": {
        "id": "OLFM9G20sPGy"
      },
      "source": [
        "fid = drive.ListFile({'q':\"title='Covid19-dataset.zip'\"}).GetList()[0]['id']\n",
        "f = drive.CreateFile({'id': fid})\n",
        "f.GetContentFile('Covid19-dataset.zip')"
      ],
      "execution_count": 4,
      "outputs": []
    },
    {
      "cell_type": "code",
      "metadata": {
        "colab": {
          "base_uri": "https://localhost:8080/"
        },
        "id": "cO15ipZJsu3Z",
        "outputId": "3c49bc24-28d2-424d-fc8e-ea7d39f3b5fe"
      },
      "source": [
        "f.keys()"
      ],
      "execution_count": 5,
      "outputs": [
        {
          "output_type": "execute_result",
          "data": {
            "text/plain": [
              "dict_keys(['id', 'kind', 'etag', 'selfLink', 'webContentLink', 'alternateLink', 'embedLink', 'iconLink', 'title', 'mimeType', 'labels', 'copyRequiresWriterPermission', 'createdDate', 'modifiedDate', 'modifiedByMeDate', 'markedViewedByMeDate', 'version', 'parents', 'downloadUrl', 'userPermission', 'originalFilename', 'fileExtension', 'md5Checksum', 'fileSize', 'quotaBytesUsed', 'ownerNames', 'owners', 'lastModifyingUserName', 'lastModifyingUser', 'capabilities', 'editable', 'copyable', 'writersCanShare', 'shared', 'explicitlyTrashed', 'appDataContents', 'headRevisionId', 'spaces'])"
            ]
          },
          "metadata": {
            "tags": []
          },
          "execution_count": 5
        }
      ]
    },
    {
      "cell_type": "code",
      "metadata": {
        "colab": {
          "base_uri": "https://localhost:8080/"
        },
        "id": "ekoi2nFms3xI",
        "outputId": "20c27e97-0fad-4d40-eb1e-5c107e4fa86a"
      },
      "source": [
        "!unzip Covid19-dataset.zip"
      ],
      "execution_count": 6,
      "outputs": [
        {
          "output_type": "stream",
          "text": [
            "Archive:  Covid19-dataset.zip\n",
            "replace Covid19-dataset/.DS_Store? [y]es, [n]o, [A]ll, [N]one, [r]ename: A\n",
            "  inflating: Covid19-dataset/.DS_Store  \n",
            "  inflating: Covid19-dataset/test/.DS_Store  \n",
            "  inflating: Covid19-dataset/test/Pneumonia/59.png  \n",
            "  inflating: Covid19-dataset/test/Pneumonia/14.png  \n",
            "  inflating: Covid19-dataset/test/Pneumonia/29.png  \n",
            "  inflating: Covid19-dataset/test/Pneumonia/12.png  \n",
            "  inflating: Covid19-dataset/test/Pneumonia/21.png  \n",
            "  inflating: Covid19-dataset/test/Pneumonia/20.png  \n",
            "  inflating: Covid19-dataset/test/Pneumonia/27.png  \n",
            "  inflating: Covid19-dataset/test/Pneumonia/33.png  \n",
            "  inflating: Covid19-dataset/test/Pneumonia/18.png  \n",
            "  inflating: Covid19-dataset/test/Pneumonia/31.png  \n",
            "  inflating: Covid19-dataset/test/Pneumonia/19.png  \n",
            "  inflating: Covid19-dataset/test/Pneumonia/43.png  \n",
            "  inflating: Covid19-dataset/test/Pneumonia/54.png  \n",
            "  inflating: Covid19-dataset/test/Pneumonia/6.png  \n",
            "  inflating: Covid19-dataset/test/Pneumonia/44.png  \n",
            "  inflating: Covid19-dataset/test/Pneumonia/50.png  \n",
            "  inflating: Covid19-dataset/test/Pneumonia/51.png  \n",
            "  inflating: Covid19-dataset/test/Pneumonia/45.png  \n",
            "  inflating: Covid19-dataset/test/Pneumonia/52.png  \n",
            "  inflating: Covid19-dataset/test/Pneumonia/0.png  \n",
            "  inflating: Covid19-dataset/test/Normal/62.png  \n",
            "  inflating: Covid19-dataset/test/Normal/61.png  \n",
            "  inflating: Covid19-dataset/test/Normal/28.png  \n",
            "  inflating: Covid19-dataset/test/Normal/17.png  \n",
            "  inflating: Covid19-dataset/test/Normal/13.png  \n",
            "  inflating: Covid19-dataset/test/Normal/39.png  \n",
            "  inflating: Covid19-dataset/test/Normal/11.png  \n",
            "  inflating: Covid19-dataset/test/Normal/10.png  \n",
            "  inflating: Covid19-dataset/test/Normal/35.png  \n",
            "  inflating: Covid19-dataset/test/Normal/34.png  \n",
            "  inflating: Covid19-dataset/test/Normal/22.png  \n",
            "  inflating: Covid19-dataset/test/Normal/36.png  \n",
            "  inflating: Covid19-dataset/test/Normal/37.png  \n",
            "  inflating: Covid19-dataset/test/Normal/23.png  \n",
            "  inflating: Covid19-dataset/test/Normal/32.png  \n",
            "  inflating: Covid19-dataset/test/Normal/4.png  \n",
            "  inflating: Covid19-dataset/test/Normal/5.png  \n",
            "  inflating: Covid19-dataset/test/Normal/57.png  \n",
            "  inflating: Covid19-dataset/test/Normal/3.png  \n",
            "  inflating: Covid19-dataset/test/Normal/1.png  \n",
            "  inflating: Covid19-dataset/test/Covid/63.png  \n",
            "  inflating: Covid19-dataset/test/Covid/60.png  \n",
            "  inflating: Covid19-dataset/test/Covid/48.png  \n",
            "  inflating: Covid19-dataset/test/Covid/49.png  \n",
            "  inflating: Covid19-dataset/test/Covid/65.png  \n",
            "  inflating: Covid19-dataset/test/Covid/64.png  \n",
            "  inflating: Covid19-dataset/test/Covid/58.png  \n",
            "  inflating: Covid19-dataset/test/Covid/8.png  \n",
            "  inflating: Covid19-dataset/test/Covid/9.png  \n",
            "  inflating: Covid19-dataset/test/Covid/15.png  \n",
            "  inflating: Covid19-dataset/test/Covid/16.png  \n",
            "  inflating: Covid19-dataset/test/Covid/38.png  \n",
            "  inflating: Covid19-dataset/test/Covid/26.png  \n",
            "  inflating: Covid19-dataset/test/Covid/30.png  \n",
            "  inflating: Covid19-dataset/test/Covid/24.png  \n",
            "  inflating: Covid19-dataset/test/Covid/25.png  \n",
            "  inflating: Covid19-dataset/test/Covid/56.png  \n",
            "  inflating: Covid19-dataset/test/Covid/42.png  \n",
            "  inflating: Covid19-dataset/test/Covid/41.png  \n",
            "  inflating: Covid19-dataset/test/Covid/55.png  \n",
            "  inflating: Covid19-dataset/test/Covid/7.png  \n",
            "  inflating: Covid19-dataset/test/Covid/40.png  \n",
            "  inflating: Covid19-dataset/test/Covid/2.png  \n",
            "  inflating: Covid19-dataset/test/Covid/53.png  \n",
            "  inflating: Covid19-dataset/test/Covid/47.png  \n",
            "  inflating: Covid19-dataset/test/Covid/46.png  \n",
            "  inflating: Covid19-dataset/train/.DS_Store  \n",
            "  inflating: Covid19-dataset/train/Pneumonia/162.png  \n",
            "  inflating: Covid19-dataset/train/Pneumonia/77.png  \n",
            "  inflating: Covid19-dataset/train/Pneumonia/201.png  \n",
            "  inflating: Covid19-dataset/train/Pneumonia/229.png  \n",
            "  inflating: Covid19-dataset/train/Pneumonia/188.png  \n",
            "  inflating: Covid19-dataset/train/Pneumonia/149.png  \n",
            "  inflating: Covid19-dataset/train/Pneumonia/74.png  \n",
            "  inflating: Covid19-dataset/train/Pneumonia/217.png  \n",
            "  inflating: Covid19-dataset/train/Pneumonia/202.png  \n",
            "  inflating: Covid19-dataset/train/Pneumonia/49.png  \n",
            "  inflating: Covid19-dataset/train/Pneumonia/75.png  \n",
            "  inflating: Covid19-dataset/train/Pneumonia/61.png  \n",
            "  inflating: Covid19-dataset/train/Pneumonia/174.png  \n",
            "  inflating: Covid19-dataset/train/Pneumonia/148.png  \n",
            "  inflating: Covid19-dataset/train/Pneumonia/170.png  \n",
            "  inflating: Covid19-dataset/train/Pneumonia/158.png  \n",
            "  inflating: Covid19-dataset/train/Pneumonia/65.png  \n",
            "  inflating: Covid19-dataset/train/Pneumonia/207.png  \n",
            "  inflating: Covid19-dataset/train/Pneumonia/99.png  \n",
            "  inflating: Covid19-dataset/train/Pneumonia/205.png  \n",
            "  inflating: Covid19-dataset/train/Pneumonia/210.png  \n",
            "  inflating: Covid19-dataset/train/Pneumonia/166.png  \n",
            "  inflating: Covid19-dataset/train/Pneumonia/115.png  \n",
            "  inflating: Covid19-dataset/train/Pneumonia/114.png  \n",
            "  inflating: Covid19-dataset/train/Pneumonia/13.png  \n",
            "  inflating: Covid19-dataset/train/Pneumonia/105.png  \n",
            "  inflating: Covid19-dataset/train/Pneumonia/111.png  \n",
            "  inflating: Covid19-dataset/train/Pneumonia/35.png  \n",
            "  inflating: Covid19-dataset/train/Pneumonia/109.png  \n",
            "  inflating: Covid19-dataset/train/Pneumonia/36.png  \n",
            "  inflating: Covid19-dataset/train/Pneumonia/241.png  \n",
            "  inflating: Covid19-dataset/train/Pneumonia/132.png  \n",
            "  inflating: Covid19-dataset/train/Pneumonia/27.png  \n",
            "  inflating: Covid19-dataset/train/Pneumonia/33.png  \n",
            "  inflating: Covid19-dataset/train/Pneumonia/244.png  \n",
            "  inflating: Covid19-dataset/train/Pneumonia/119.png  \n",
            "  inflating: Covid19-dataset/train/Pneumonia/30.png  \n",
            "  inflating: Covid19-dataset/train/Pneumonia/24.png  \n",
            "  inflating: Covid19-dataset/train/Pneumonia/25.png  \n",
            "  inflating: Covid19-dataset/train/Pneumonia/118.png  \n",
            "  inflating: Covid19-dataset/train/Pneumonia/194.png  \n",
            "  inflating: Covid19-dataset/train/Pneumonia/209.png  \n",
            "  inflating: Covid19-dataset/train/Pneumonia/220.png  \n",
            "  inflating: Covid19-dataset/train/Pneumonia/195.png  \n",
            "  inflating: Covid19-dataset/train/Pneumonia/43.png  \n",
            "  inflating: Covid19-dataset/train/Pneumonia/5.png  \n",
            "  inflating: Covid19-dataset/train/Pneumonia/57.png  \n",
            "  inflating: Covid19-dataset/train/Pneumonia/142.png  \n",
            "  inflating: Covid19-dataset/train/Pneumonia/94.png  \n",
            "  inflating: Covid19-dataset/train/Pneumonia/140.png  \n",
            "  inflating: Covid19-dataset/train/Pneumonia/183.png  \n",
            "  inflating: Covid19-dataset/train/Pneumonia/236.png  \n",
            "  inflating: Covid19-dataset/train/Pneumonia/222.png  \n",
            "  inflating: Covid19-dataset/train/Pneumonia/223.png  \n",
            "  inflating: Covid19-dataset/train/Pneumonia/237.png  \n",
            "  inflating: Covid19-dataset/train/Pneumonia/68.png  \n",
            "  inflating: Covid19-dataset/train/Pneumonia/40.png  \n",
            "  inflating: Covid19-dataset/train/Pneumonia/169.png  \n",
            "  inflating: Covid19-dataset/train/Pneumonia/83.png  \n",
            "  inflating: Covid19-dataset/train/Pneumonia/192.png  \n",
            "  inflating: Covid19-dataset/train/Pneumonia/227.png  \n",
            "  inflating: Covid19-dataset/train/Pneumonia/226.png  \n",
            "  inflating: Covid19-dataset/train/Pneumonia/51.png  \n",
            "  inflating: Covid19-dataset/train/Pneumonia/178.png  \n",
            "  inflating: Covid19-dataset/train/Pneumonia/150.png  \n",
            "  inflating: Covid19-dataset/train/Pneumonia/191.png  \n",
            "  inflating: Covid19-dataset/train/Pneumonia/47.png  \n",
            "  inflating: Covid19-dataset/train/Pneumonia/46.png  \n",
            "  inflating: Covid19-dataset/train/Pneumonia/0.png  \n",
            "  inflating: Covid19-dataset/train/Pneumonia/153.png  \n",
            "  inflating: Covid19-dataset/train/Normal/215.png  \n",
            "  inflating: Covid19-dataset/train/Normal/62.png  \n",
            "  inflating: Covid19-dataset/train/Normal/76.png  \n",
            "  inflating: Covid19-dataset/train/Normal/177.png  \n",
            "  inflating: Covid19-dataset/train/Normal/89.png  \n",
            "  inflating: Covid19-dataset/train/Normal/175.png  \n",
            "  inflating: Covid19-dataset/train/Normal/164.png  \n",
            "  inflating: Covid19-dataset/train/Normal/212.png  \n",
            "  inflating: Covid19-dataset/train/Normal/213.png  \n",
            "  inflating: Covid19-dataset/train/Normal/171.png  \n",
            "  inflating: Covid19-dataset/train/Normal/173.png  \n",
            "  inflating: Covid19-dataset/train/Normal/66.png  \n",
            "  inflating: Covid19-dataset/train/Normal/238.png  \n",
            "  inflating: Covid19-dataset/train/Normal/199.png  \n",
            "  inflating: Covid19-dataset/train/Normal/9.png  \n",
            "  inflating: Covid19-dataset/train/Normal/98.png  \n",
            "  inflating: Covid19-dataset/train/Normal/172.png  \n",
            "  inflating: Covid19-dataset/train/Normal/14.png  \n",
            "  inflating: Covid19-dataset/train/Normal/15.png  \n",
            "  inflating: Covid19-dataset/train/Normal/128.png  \n",
            "  inflating: Covid19-dataset/train/Normal/116.png  \n",
            "  inflating: Covid19-dataset/train/Normal/248.png  \n",
            "  inflating: Covid19-dataset/train/Normal/16.png  \n",
            "  inflating: Covid19-dataset/train/Normal/103.png  \n",
            "  inflating: Covid19-dataset/train/Normal/113.png  \n",
            "  inflating: Covid19-dataset/train/Normal/106.png  \n",
            "  inflating: Covid19-dataset/train/Normal/138.png  \n",
            "  inflating: Covid19-dataset/train/Normal/21.png  \n",
            "  inflating: Covid19-dataset/train/Normal/242.png  \n",
            "  inflating: Covid19-dataset/train/Normal/34.png  \n",
            "  inflating: Covid19-dataset/train/Normal/135.png  \n",
            "  inflating: Covid19-dataset/train/Normal/23.png  \n",
            "  inflating: Covid19-dataset/train/Normal/122.png  \n",
            "  inflating: Covid19-dataset/train/Normal/126.png  \n",
            "  inflating: Covid19-dataset/train/Normal/133.png  \n",
            "  inflating: Covid19-dataset/train/Normal/131.png  \n",
            "  inflating: Covid19-dataset/train/Normal/125.png  \n",
            "  inflating: Covid19-dataset/train/Normal/246.png  \n",
            "  inflating: Covid19-dataset/train/Normal/19.png  \n",
            "  inflating: Covid19-dataset/train/Normal/130.png  \n",
            "  inflating: Covid19-dataset/train/Normal/95.png  \n",
            "  inflating: Covid19-dataset/train/Normal/157.png  \n",
            "  inflating: Covid19-dataset/train/Normal/4.png  \n",
            "  inflating: Covid19-dataset/train/Normal/180.png  \n",
            "  inflating: Covid19-dataset/train/Normal/208.png  \n",
            "  inflating: Covid19-dataset/train/Normal/181.png  \n",
            "  inflating: Covid19-dataset/train/Normal/168.png  \n",
            "  inflating: Covid19-dataset/train/Normal/41.png  \n",
            "  inflating: Covid19-dataset/train/Normal/55.png  \n",
            "  inflating: Covid19-dataset/train/Normal/6.png  \n",
            "  inflating: Covid19-dataset/train/Normal/151.png  \n",
            "  inflating: Covid19-dataset/train/Normal/78.png  \n",
            "  inflating: Covid19-dataset/train/Normal/50.png  \n",
            "  inflating: Covid19-dataset/train/Normal/233.png  \n",
            "  inflating: Covid19-dataset/train/Normal/232.png  \n",
            "  inflating: Covid19-dataset/train/Normal/3.png  \n",
            "  inflating: Covid19-dataset/train/Normal/45.png  \n",
            "  inflating: Covid19-dataset/train/Normal/187.png  \n",
            "  inflating: Covid19-dataset/train/Normal/86.png  \n",
            "  inflating: Covid19-dataset/train/Normal/144.png  \n",
            "  inflating: Covid19-dataset/train/Normal/152.png  \n",
            "  inflating: Covid19-dataset/train/Normal/185.png  \n",
            "  inflating: Covid19-dataset/train/Normal/53.png  \n",
            "  inflating: Covid19-dataset/train/Normal/1.png  \n",
            "  inflating: Covid19-dataset/train/Normal/230.png  \n",
            "  inflating: Covid19-dataset/train/Normal/225.png  \n",
            "  inflating: Covid19-dataset/train/Normal/184.png  \n",
            "  inflating: Covid19-dataset/train/Normal/190.png  \n",
            "  inflating: Covid19-dataset/train/Normal/91.png  \n",
            "  inflating: Covid19-dataset/train/Normal/147.png  \n",
            "  inflating: Covid19-dataset/train/Covid/176.png  \n",
            "  inflating: Covid19-dataset/train/Covid/88.png  \n",
            "  inflating: Covid19-dataset/train/Covid/189.png  \n",
            "  inflating: Covid19-dataset/train/Covid/63.png  \n",
            "  inflating: Covid19-dataset/train/Covid/228.png  \n",
            "  inflating: Covid19-dataset/train/Covid/200.png  \n",
            "  inflating: Covid19-dataset/train/Covid/214.png  \n",
            "  inflating: Covid19-dataset/train/Covid/163.png  \n",
            "  inflating: Covid19-dataset/train/Covid/161.png  \n",
            "  inflating: Covid19-dataset/train/Covid/60.png  \n",
            "  inflating: Covid19-dataset/train/Covid/48.png  \n",
            "  inflating: Covid19-dataset/train/Covid/203.png  \n",
            "  inflating: Covid19-dataset/train/Covid/216.png  \n",
            "  inflating: Covid19-dataset/train/Covid/160.png  \n",
            "  inflating: Covid19-dataset/train/Covid/59.png  \n",
            "  inflating: Covid19-dataset/train/Covid/71.png  \n",
            "  inflating: Covid19-dataset/train/Covid/206.png  \n",
            "  inflating: Covid19-dataset/train/Covid/70.png  \n",
            "  inflating: Covid19-dataset/train/Covid/64.png  \n",
            "  inflating: Covid19-dataset/train/Covid/58.png  \n",
            "  inflating: Covid19-dataset/train/Covid/159.png  \n",
            "  inflating: Covid19-dataset/train/Covid/165.png  \n",
            "  inflating: Covid19-dataset/train/Covid/167.png  \n",
            "  inflating: Covid19-dataset/train/Covid/8.png  \n",
            "  inflating: Covid19-dataset/train/Covid/72.png  \n",
            "  inflating: Covid19-dataset/train/Covid/198.png  \n",
            "  inflating: Covid19-dataset/train/Covid/211.png  \n",
            "  inflating: Covid19-dataset/train/Covid/239.png  \n",
            "  inflating: Covid19-dataset/train/Covid/204.png  \n",
            "  inflating: Covid19-dataset/train/Covid/67.png  \n",
            "  inflating: Covid19-dataset/train/Covid/73.png  \n",
            "  inflating: Covid19-dataset/train/Covid/129.png  \n",
            "  inflating: Covid19-dataset/train/Covid/101.png  \n",
            "  inflating: Covid19-dataset/train/Covid/28.png  \n",
            "  inflating: Covid19-dataset/train/Covid/29.png  \n",
            "  inflating: Covid19-dataset/train/Covid/100.png  \n",
            "  inflating: Covid19-dataset/train/Covid/102.png  \n",
            "  inflating: Covid19-dataset/train/Covid/17.png  \n",
            "  inflating: Covid19-dataset/train/Covid/249.png  \n",
            "  inflating: Covid19-dataset/train/Covid/117.png  \n",
            "  inflating: Covid19-dataset/train/Covid/107.png  \n",
            "  inflating: Covid19-dataset/train/Covid/12.png  \n",
            "  inflating: Covid19-dataset/train/Covid/112.png  \n",
            "  inflating: Covid19-dataset/train/Covid/110.png  \n",
            "  inflating: Covid19-dataset/train/Covid/104.png  \n",
            "  inflating: Covid19-dataset/train/Covid/39.png  \n",
            "  inflating: Covid19-dataset/train/Covid/11.png  \n",
            "  inflating: Covid19-dataset/train/Covid/10.png  \n",
            "  inflating: Covid19-dataset/train/Covid/38.png  \n",
            "  inflating: Covid19-dataset/train/Covid/139.png  \n",
            "  inflating: Covid19-dataset/train/Covid/108.png  \n",
            "  inflating: Covid19-dataset/train/Covid/134.png  \n",
            "  inflating: Covid19-dataset/train/Covid/120.png  \n",
            "  inflating: Covid19-dataset/train/Covid/243.png  \n",
            "  inflating: Covid19-dataset/train/Covid/20.png  \n",
            "  inflating: Covid19-dataset/train/Covid/121.png  \n",
            "  inflating: Covid19-dataset/train/Covid/123.png  \n",
            "  inflating: Covid19-dataset/train/Covid/137.png  \n",
            "  inflating: Covid19-dataset/train/Covid/22.png  \n",
            "  inflating: Covid19-dataset/train/Covid/240.png  \n",
            "  inflating: Covid19-dataset/train/Covid/37.png  \n",
            "  inflating: Covid19-dataset/train/Covid/136.png  \n",
            "  inflating: Covid19-dataset/train/Covid/250.png  \n",
            "  inflating: Covid19-dataset/train/Covid/245.png  \n",
            "  inflating: Covid19-dataset/train/Covid/32.png  \n",
            "  inflating: Covid19-dataset/train/Covid/26.png  \n",
            "  inflating: Covid19-dataset/train/Covid/127.png  \n",
            "  inflating: Covid19-dataset/train/Covid/18.png  \n",
            "  inflating: Covid19-dataset/train/Covid/247.png  \n",
            "  inflating: Covid19-dataset/train/Covid/31.png  \n",
            "  inflating: Covid19-dataset/train/Covid/124.png  \n",
            "  inflating: Covid19-dataset/train/Covid/81.png  \n",
            "  inflating: Covid19-dataset/train/Covid/143.png  \n",
            "  inflating: Covid19-dataset/train/Covid/56.png  \n",
            "  inflating: Covid19-dataset/train/Covid/42.png  \n",
            "  inflating: Covid19-dataset/train/Covid/221.png  \n",
            "  inflating: Covid19-dataset/train/Covid/235.png  \n",
            "  inflating: Covid19-dataset/train/Covid/234.png  \n",
            "  inflating: Covid19-dataset/train/Covid/156.png  \n",
            "  inflating: Covid19-dataset/train/Covid/80.png  \n",
            "  inflating: Covid19-dataset/train/Covid/82.png  \n",
            "  inflating: Covid19-dataset/train/Covid/96.png  \n",
            "  inflating: Covid19-dataset/train/Covid/154.png  \n",
            "  inflating: Covid19-dataset/train/Covid/7.png  \n",
            "  inflating: Covid19-dataset/train/Covid/69.png  \n",
            "  inflating: Covid19-dataset/train/Covid/197.png  \n",
            "  inflating: Covid19-dataset/train/Covid/196.png  \n",
            "  inflating: Covid19-dataset/train/Covid/182.png  \n",
            "  inflating: Covid19-dataset/train/Covid/54.png  \n",
            "  inflating: Covid19-dataset/train/Covid/155.png  \n",
            "  inflating: Covid19-dataset/train/Covid/141.png  \n",
            "  inflating: Covid19-dataset/train/Covid/97.png  \n",
            "  inflating: Covid19-dataset/train/Covid/145.png  \n",
            "  inflating: Covid19-dataset/train/Covid/87.png  \n",
            "  inflating: Covid19-dataset/train/Covid/179.png  \n",
            "  inflating: Covid19-dataset/train/Covid/93.png  \n",
            "  inflating: Covid19-dataset/train/Covid/186.png  \n",
            "  inflating: Covid19-dataset/train/Covid/44.png  \n",
            "  inflating: Covid19-dataset/train/Covid/2.png  \n",
            "  inflating: Covid19-dataset/train/Covid/193.png  \n",
            "  inflating: Covid19-dataset/train/Covid/79.png  \n",
            "  inflating: Covid19-dataset/train/Covid/92.png  \n",
            "  inflating: Covid19-dataset/train/Covid/146.png  \n",
            "  inflating: Covid19-dataset/train/Covid/90.png  \n",
            "  inflating: Covid19-dataset/train/Covid/84.png  \n",
            "  inflating: Covid19-dataset/train/Covid/224.png  \n",
            "  inflating: Covid19-dataset/train/Covid/218.png  \n",
            "  inflating: Covid19-dataset/train/Covid/219.png  \n",
            "  inflating: Covid19-dataset/train/Covid/231.png  \n",
            "  inflating: Covid19-dataset/train/Covid/52.png  \n",
            "  inflating: Covid19-dataset/train/Covid/85.png  \n"
          ],
          "name": "stdout"
        }
      ]
    },
    {
      "cell_type": "code",
      "metadata": {
        "id": "KXMftfEVtEMx"
      },
      "source": [
        "PATH = '/content/Covid19-dataset'"
      ],
      "execution_count": 7,
      "outputs": []
    },
    {
      "cell_type": "code",
      "metadata": {
        "colab": {
          "base_uri": "https://localhost:8080/"
        },
        "id": "LIwdlPo6tK3I",
        "outputId": "505424b6-74ea-4c1d-c71a-533ea9de6731"
      },
      "source": [
        "os.listdir(PATH)"
      ],
      "execution_count": 8,
      "outputs": [
        {
          "output_type": "execute_result",
          "data": {
            "text/plain": [
              "['.DS_Store', 'train', 'test']"
            ]
          },
          "metadata": {
            "tags": []
          },
          "execution_count": 8
        }
      ]
    },
    {
      "cell_type": "code",
      "metadata": {
        "id": "L31DVs9awgvL"
      },
      "source": [
        "train_dir = os.path.join(PATH,\n",
        "                         'train')\n",
        "test_dir = os.path.join(PATH,\n",
        "                        'test')"
      ],
      "execution_count": 9,
      "outputs": []
    },
    {
      "cell_type": "code",
      "metadata": {
        "id": "VK024475wjTq"
      },
      "source": [
        "train_covid_dir = os.path.join(train_dir,\n",
        "                                'Covid')\n",
        "train_normal_dir = os.path.join(train_dir,\n",
        "                                   'Normal')\n",
        "train_pneumonia_dir = os.path.join(train_dir,\n",
        "                               'Pneumonia')\n",
        "\n",
        "test_covid_dir = os.path.join(test_dir,\n",
        "                               'Covid')\n",
        "test_normal_dir = os.path.join(test_dir,\n",
        "                                  'Normal')\n",
        "test_pneumonia_dir = os.path.join(test_dir,\n",
        "                              'Pneumonia')"
      ],
      "execution_count": 10,
      "outputs": []
    },
    {
      "cell_type": "code",
      "metadata": {
        "colab": {
          "base_uri": "https://localhost:8080/"
        },
        "id": "Task8ubDw79q",
        "outputId": "97b36486-ab6a-47a5-e21e-90568a44fd96"
      },
      "source": [
        "len(os.listdir(train_covid_dir))"
      ],
      "execution_count": 11,
      "outputs": [
        {
          "output_type": "execute_result",
          "data": {
            "text/plain": [
              "111"
            ]
          },
          "metadata": {
            "tags": []
          },
          "execution_count": 11
        }
      ]
    },
    {
      "cell_type": "code",
      "metadata": {
        "colab": {
          "base_uri": "https://localhost:8080/"
        },
        "id": "XC8FxirG1H85",
        "outputId": "5b894dba-0818-46ef-ac81-72b92814d81b"
      },
      "source": [
        "len(os.listdir(train_pneumonia_dir ))"
      ],
      "execution_count": 12,
      "outputs": [
        {
          "output_type": "execute_result",
          "data": {
            "text/plain": [
              "70"
            ]
          },
          "metadata": {
            "tags": []
          },
          "execution_count": 12
        }
      ]
    },
    {
      "cell_type": "code",
      "metadata": {
        "colab": {
          "base_uri": "https://localhost:8080/"
        },
        "id": "lwKGCXqH1S7P",
        "outputId": "212f874f-8511-4e57-9ecb-9f8d6c52a61a"
      },
      "source": [
        "len(os.listdir(train_normal_dir ))"
      ],
      "execution_count": 13,
      "outputs": [
        {
          "output_type": "execute_result",
          "data": {
            "text/plain": [
              "70"
            ]
          },
          "metadata": {
            "tags": []
          },
          "execution_count": 13
        }
      ]
    },
    {
      "cell_type": "markdown",
      "metadata": {
        "id": "zjU0eacxzLD5"
      },
      "source": [
        "## Preparing Data"
      ]
    },
    {
      "cell_type": "code",
      "metadata": {
        "id": "LodLmoJ5zNlz"
      },
      "source": [
        "IMG_HEIGHT = 256\n",
        "IMG_WIDTH = 256\n",
        "batch_size = 32"
      ],
      "execution_count": 14,
      "outputs": []
    },
    {
      "cell_type": "code",
      "metadata": {
        "id": "8_T9hIf50jZI"
      },
      "source": [
        "image_gen = ImageDataGenerator(\n",
        "    rescale=1./255\n",
        "    )"
      ],
      "execution_count": 15,
      "outputs": []
    },
    {
      "cell_type": "code",
      "metadata": {
        "colab": {
          "base_uri": "https://localhost:8080/"
        },
        "id": "sDxeo7vq0lzj",
        "outputId": "a3ac5e88-347e-4f67-c927-ea34a31401eb"
      },
      "source": [
        "train_data_gen = image_gen.flow_from_directory(\n",
        "    batch_size=batch_size,\n",
        "    directory=train_dir,\n",
        "    shuffle=True,\n",
        "    target_size=(IMG_HEIGHT, IMG_WIDTH),\n",
        "    class_mode='categorical')"
      ],
      "execution_count": 16,
      "outputs": [
        {
          "output_type": "stream",
          "text": [
            "Found 251 images belonging to 3 classes.\n"
          ],
          "name": "stdout"
        }
      ]
    },
    {
      "cell_type": "code",
      "metadata": {
        "colab": {
          "base_uri": "https://localhost:8080/"
        },
        "id": "SSWzRHSx0pCl",
        "outputId": "b13c7eb7-1950-4791-e721-5b715c7cb726"
      },
      "source": [
        "test_data_gen = image_gen.flow_from_directory(\n",
        "    batch_size=batch_size,\n",
        "    directory=test_dir,\n",
        "    target_size=(IMG_HEIGHT, IMG_WIDTH),\n",
        "    class_mode='categorical')"
      ],
      "execution_count": 17,
      "outputs": [
        {
          "output_type": "stream",
          "text": [
            "Found 66 images belonging to 3 classes.\n"
          ],
          "name": "stdout"
        }
      ]
    },
    {
      "cell_type": "markdown",
      "metadata": {
        "id": "8dO2YmEt1nXx"
      },
      "source": [
        "## Building Model"
      ]
    },
    {
      "cell_type": "code",
      "metadata": {
        "id": "ahILieTj1nBY"
      },
      "source": [
        "model = Sequential()"
      ],
      "execution_count": 18,
      "outputs": []
    },
    {
      "cell_type": "code",
      "metadata": {
        "colab": {
          "base_uri": "https://localhost:8080/"
        },
        "id": "GfcjprT01r_x",
        "outputId": "21d9e1b9-0139-4470-a79f-2afcf6b97197"
      },
      "source": [
        "test_data_gen.image_shape"
      ],
      "execution_count": 19,
      "outputs": [
        {
          "output_type": "execute_result",
          "data": {
            "text/plain": [
              "(256, 256, 3)"
            ]
          },
          "metadata": {
            "tags": []
          },
          "execution_count": 19
        }
      ]
    },
    {
      "cell_type": "code",
      "metadata": {
        "id": "5M17hAXz20i_"
      },
      "source": [
        "model.add(InputLayer(input_shape=(256, 256, 3)))\n",
        "model.add(Conv2D(32, 3, padding='same', activation='relu'))\n",
        "model.add(MaxPooling2D())\n",
        "model.add(Dropout(0.2))\n",
        "model.add(Conv2D(128, 3, padding='same', activation='relu'))\n",
        "model.add(MaxPooling2D())\n",
        "model.add(Dropout(0.2))\n",
        "model.add(Conv2D(128, 3, padding='same', activation='relu'))\n",
        "model.add(MaxPooling2D())\n",
        "model.add(Dropout(0.2))\n",
        "model.add(Flatten())\n",
        "model.add(Dense(512, activation='relu'))\n",
        "model.add(Dense(3, activation='softmax'))"
      ],
      "execution_count": 20,
      "outputs": []
    },
    {
      "cell_type": "code",
      "metadata": {
        "id": "R_0R87bW5642"
      },
      "source": [
        "model.compile(optimizer=tf.keras.optimizers.Adam(learning_rate=0.005),\n",
        "              loss=tf.keras.losses.CategoricalCrossentropy(),\n",
        "              metrics=[tf.keras.metrics.CategoricalAccuracy(),tf.keras.metrics.AUC()]\n",
        "              )"
      ],
      "execution_count": 21,
      "outputs": []
    },
    {
      "cell_type": "code",
      "metadata": {
        "colab": {
          "base_uri": "https://localhost:8080/"
        },
        "id": "yaCj6aut6uCm",
        "outputId": "6ec7c9a5-31f0-4cda-fbbf-7c9d797d30a5"
      },
      "source": [
        "model.summary()"
      ],
      "execution_count": 22,
      "outputs": [
        {
          "output_type": "stream",
          "text": [
            "Model: \"sequential\"\n",
            "_________________________________________________________________\n",
            "Layer (type)                 Output Shape              Param #   \n",
            "=================================================================\n",
            "conv2d (Conv2D)              (None, 256, 256, 32)      896       \n",
            "_________________________________________________________________\n",
            "max_pooling2d (MaxPooling2D) (None, 128, 128, 32)      0         \n",
            "_________________________________________________________________\n",
            "dropout (Dropout)            (None, 128, 128, 32)      0         \n",
            "_________________________________________________________________\n",
            "conv2d_1 (Conv2D)            (None, 128, 128, 128)     36992     \n",
            "_________________________________________________________________\n",
            "max_pooling2d_1 (MaxPooling2 (None, 64, 64, 128)       0         \n",
            "_________________________________________________________________\n",
            "dropout_1 (Dropout)          (None, 64, 64, 128)       0         \n",
            "_________________________________________________________________\n",
            "conv2d_2 (Conv2D)            (None, 64, 64, 128)       147584    \n",
            "_________________________________________________________________\n",
            "max_pooling2d_2 (MaxPooling2 (None, 32, 32, 128)       0         \n",
            "_________________________________________________________________\n",
            "dropout_2 (Dropout)          (None, 32, 32, 128)       0         \n",
            "_________________________________________________________________\n",
            "flatten (Flatten)            (None, 131072)            0         \n",
            "_________________________________________________________________\n",
            "dense (Dense)                (None, 512)               67109376  \n",
            "_________________________________________________________________\n",
            "dense_1 (Dense)              (None, 3)                 1539      \n",
            "=================================================================\n",
            "Total params: 67,296,387\n",
            "Trainable params: 67,296,387\n",
            "Non-trainable params: 0\n",
            "_________________________________________________________________\n"
          ],
          "name": "stdout"
        }
      ]
    },
    {
      "cell_type": "markdown",
      "metadata": {
        "id": "SiDjlmr46-zV"
      },
      "source": [
        "## Training the Model"
      ]
    },
    {
      "cell_type": "code",
      "metadata": {
        "id": "PB1As0jf6-aE"
      },
      "source": [
        "batch_size = 32\n",
        "epochs = 30"
      ],
      "execution_count": 31,
      "outputs": []
    },
    {
      "cell_type": "code",
      "metadata": {
        "id": "YRl-k3sX7Dk2"
      },
      "source": [
        "num_normal_train = len(os.listdir(train_normal_dir))\n",
        "num_covid_train = len(os.listdir(train_covid_dir))\n",
        "num_pneumonia_train = len(os.listdir(train_pneumonia_dir))\n",
        "\n",
        "num_normal_test = len(os.listdir(test_normal_dir))\n",
        "num_covid_test = len(os.listdir(test_covid_dir))\n",
        "num_pneumonia_test = len(os.listdir(test_pneumonia_dir))\n",
        "\n",
        "total_train = num_normal_train + num_covid_train + num_pneumonia_train\n",
        "total_test = num_normal_test + num_covid_test + num_pneumonia_test"
      ],
      "execution_count": 32,
      "outputs": []
    },
    {
      "cell_type": "code",
      "metadata": {
        "colab": {
          "base_uri": "https://localhost:8080/"
        },
        "id": "2WJN--J48HMq",
        "outputId": "d17d34e5-9f3e-44cd-b855-0c6a45ac3f31"
      },
      "source": [
        "history = model.fit(\n",
        "    train_data_gen,\n",
        "    steps_per_epoch=total_train // batch_size,\n",
        "    epochs=epochs,\n",
        "    validation_data=test_data_gen,\n",
        "    validation_steps=total_test // batch_size,\n",
        "    callbacks = [EarlyStopping( \n",
        "        monitor='val_auc',\n",
        "        mode= 'min',\n",
        "        patience=20,\n",
        "        verbose=1\n",
        "    )]\n",
        ")"
      ],
      "execution_count": 36,
      "outputs": [
        {
          "output_type": "stream",
          "text": [
            "Epoch 1/30\n",
            "7/7 [==============================] - 1s 206ms/step - loss: 0.0191 - categorical_accuracy: 0.9909 - auc: 0.9999 - val_loss: 0.7136 - val_categorical_accuracy: 0.8438 - val_auc: 0.9384\n",
            "Epoch 2/30\n",
            "7/7 [==============================] - 1s 158ms/step - loss: 0.0528 - categorical_accuracy: 0.9680 - auc: 0.9990 - val_loss: 0.7199 - val_categorical_accuracy: 0.8594 - val_auc: 0.9471\n",
            "Epoch 3/30\n",
            "7/7 [==============================] - 1s 159ms/step - loss: 0.2135 - categorical_accuracy: 0.9543 - auc: 0.9878 - val_loss: 1.3245 - val_categorical_accuracy: 0.7656 - val_auc: 0.8682\n",
            "Epoch 4/30\n",
            "7/7 [==============================] - 1s 163ms/step - loss: 0.9453 - categorical_accuracy: 0.9178 - auc: 0.9637 - val_loss: 3.0818 - val_categorical_accuracy: 0.7812 - val_auc: 0.8459\n",
            "Epoch 5/30\n",
            "7/7 [==============================] - 1s 161ms/step - loss: 0.5621 - categorical_accuracy: 0.8584 - auc: 0.9455 - val_loss: 0.7811 - val_categorical_accuracy: 0.7031 - val_auc: 0.8810\n",
            "Epoch 6/30\n",
            "7/7 [==============================] - 1s 159ms/step - loss: 0.4934 - categorical_accuracy: 0.8265 - auc: 0.9473 - val_loss: 0.9862 - val_categorical_accuracy: 0.7656 - val_auc: 0.8618\n",
            "Epoch 7/30\n",
            "7/7 [==============================] - 1s 162ms/step - loss: 0.3369 - categorical_accuracy: 0.8813 - auc: 0.9717 - val_loss: 0.5335 - val_categorical_accuracy: 0.8750 - val_auc: 0.9367\n",
            "Epoch 8/30\n",
            "7/7 [==============================] - 1s 159ms/step - loss: 0.2428 - categorical_accuracy: 0.9224 - auc: 0.9840 - val_loss: 0.6209 - val_categorical_accuracy: 0.8750 - val_auc: 0.9327\n",
            "Epoch 9/30\n",
            "7/7 [==============================] - 1s 164ms/step - loss: 0.2269 - categorical_accuracy: 0.9224 - auc: 0.9859 - val_loss: 0.4285 - val_categorical_accuracy: 0.9062 - val_auc: 0.9556\n",
            "Epoch 10/30\n",
            "7/7 [==============================] - 1s 159ms/step - loss: 0.1454 - categorical_accuracy: 0.9498 - auc: 0.9931 - val_loss: 0.4235 - val_categorical_accuracy: 0.9062 - val_auc: 0.9605\n",
            "Epoch 11/30\n",
            "7/7 [==============================] - 1s 157ms/step - loss: 0.1227 - categorical_accuracy: 0.9589 - auc: 0.9963 - val_loss: 0.5986 - val_categorical_accuracy: 0.8594 - val_auc: 0.9410\n",
            "Epoch 12/30\n",
            "7/7 [==============================] - 1s 158ms/step - loss: 0.0648 - categorical_accuracy: 0.9772 - auc: 0.9991 - val_loss: 0.4391 - val_categorical_accuracy: 0.8750 - val_auc: 0.9570\n",
            "Epoch 13/30\n",
            "7/7 [==============================] - 1s 157ms/step - loss: 0.0397 - categorical_accuracy: 0.9863 - auc: 0.9996 - val_loss: 0.5328 - val_categorical_accuracy: 0.8750 - val_auc: 0.9526\n",
            "Epoch 14/30\n",
            "7/7 [==============================] - 1s 157ms/step - loss: 0.0206 - categorical_accuracy: 0.9909 - auc: 0.9999 - val_loss: 0.7282 - val_categorical_accuracy: 0.7969 - val_auc: 0.9309\n",
            "Epoch 15/30\n",
            "7/7 [==============================] - 1s 157ms/step - loss: 0.0162 - categorical_accuracy: 0.9954 - auc: 0.9999 - val_loss: 0.7972 - val_categorical_accuracy: 0.8281 - val_auc: 0.9332\n",
            "Epoch 16/30\n",
            "7/7 [==============================] - 1s 160ms/step - loss: 0.0108 - categorical_accuracy: 1.0000 - auc: 1.0000 - val_loss: 0.5675 - val_categorical_accuracy: 0.8750 - val_auc: 0.9613\n",
            "Epoch 17/30\n",
            "7/7 [==============================] - 1s 160ms/step - loss: 0.0049 - categorical_accuracy: 1.0000 - auc: 1.0000 - val_loss: 0.4749 - val_categorical_accuracy: 0.8750 - val_auc: 0.9612\n",
            "Epoch 18/30\n",
            "7/7 [==============================] - 1s 158ms/step - loss: 0.0090 - categorical_accuracy: 0.9954 - auc: 1.0000 - val_loss: 0.5575 - val_categorical_accuracy: 0.8594 - val_auc: 0.9542\n",
            "Epoch 19/30\n",
            "7/7 [==============================] - 1s 159ms/step - loss: 0.0090 - categorical_accuracy: 1.0000 - auc: 1.0000 - val_loss: 0.7524 - val_categorical_accuracy: 0.9219 - val_auc: 0.9517\n",
            "Epoch 20/30\n",
            "7/7 [==============================] - 1s 160ms/step - loss: 0.0138 - categorical_accuracy: 0.9909 - auc: 1.0000 - val_loss: 0.4959 - val_categorical_accuracy: 0.8750 - val_auc: 0.9577\n",
            "Epoch 21/30\n",
            "7/7 [==============================] - 1s 165ms/step - loss: 0.0048 - categorical_accuracy: 0.9954 - auc: 1.0000 - val_loss: 0.5843 - val_categorical_accuracy: 0.9375 - val_auc: 0.9448\n",
            "Epoch 22/30\n",
            "7/7 [==============================] - 1s 158ms/step - loss: 0.0033 - categorical_accuracy: 1.0000 - auc: 1.0000 - val_loss: 0.6517 - val_categorical_accuracy: 0.9375 - val_auc: 0.9453\n",
            "Epoch 23/30\n",
            "7/7 [==============================] - 1s 159ms/step - loss: 0.0042 - categorical_accuracy: 1.0000 - auc: 1.0000 - val_loss: 0.6230 - val_categorical_accuracy: 0.9375 - val_auc: 0.9446\n",
            "Epoch 24/30\n",
            "7/7 [==============================] - 1s 161ms/step - loss: 0.0017 - categorical_accuracy: 1.0000 - auc: 1.0000 - val_loss: 0.6233 - val_categorical_accuracy: 0.9375 - val_auc: 0.9460\n",
            "Epoch 00024: early stopping\n"
          ],
          "name": "stdout"
        }
      ]
    },
    {
      "cell_type": "code",
      "metadata": {
        "colab": {
          "base_uri": "https://localhost:8080/",
          "height": 295
        },
        "id": "3ngvE6-n-Ie3",
        "outputId": "d62d6c7d-a736-4402-8948-160e95bef04f"
      },
      "source": [
        "fig = plt.figure()\n",
        "ax1 = fig.add_subplot(2, 1, 1)\n",
        "ax1.plot(history.history['categorical_accuracy'])\n",
        "ax1.plot(history.history['val_categorical_accuracy'])\n",
        "ax1.set_title('model accuracy')\n",
        "ax1.set_xlabel('epoch')\n",
        "ax1.set_ylabel('accuracy')\n",
        "ax1.legend(['train', 'validation'], loc='upper left')\n",
        "\n",
        "\n",
        "# plotting auc and validation auc over epochs\n",
        "ax2 = fig.add_subplot(2, 1, 2)\n",
        "ax2.plot(history.history['auc'])\n",
        "ax2.plot(history.history['val_auc'])\n",
        "ax2.set_title('model auc')\n",
        "ax2.set_xlabel('epoch')\n",
        "ax2.set_ylabel('auc')\n",
        "ax2.legend(['train', 'validation'], loc='upper left')\n",
        "\n",
        "plt.show()"
      ],
      "execution_count": 34,
      "outputs": [
        {
          "output_type": "display_data",
          "data": {
            "image/png": "[encoded data removed]",
            "text/plain": [
              "<Figure size 432x288 with 2 Axes>"
            ]
          },
          "metadata": {
            "tags": [],
            "needs_background": "light"
          }
        }
      ]
    },
    {
      "cell_type": "markdown",
      "metadata": {
        "id": "M5RuO_nS-3W3"
      },
      "source": [
        "## Results\n",
        "\n",
        "You can see from the graphs that we get an validation accuracy of just under 94%. "
      ]
    }
  ]
}