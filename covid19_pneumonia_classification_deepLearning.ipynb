{
  "nbformat": 4,
  "nbformat_minor": 0,
  "metadata": {
    "colab": {
      "name": "covid19_pneumonia_classification_deepLearning.ipynb",
      "provenance": [],
      "collapsed_sections": [],
      "authorship_tag": "ABX9TyOLr5bDPaoEXrpyrF/7PejU",
      "include_colab_link": true
    },
    "kernelspec": {
      "name": "python3",
      "display_name": "Python 3"
    },
    "language_info": {
      "name": "python"
    },
    "accelerator": "GPU"
  },
  "cells": [
    {
      "cell_type": "markdown",
      "metadata": {
        "id": "view-in-github",
        "colab_type": "text"
      },
      "source": [
        "<a href=\"https://colab.research.google.com/github/mannb986/covid19_pneumonia_classification/blob/main/covid19_pneumonia_classification_deepLearning.ipynb\" target=\"_parent\"><img src=\"https://colab.research.google.com/assets/colab-badge.svg\" alt=\"Open In Colab\"/></a>"
      ]
    },
    {
      "cell_type": "markdown",
      "metadata": {
        "id": "EpTrTXvZmWXI"
      },
      "source": [
        "# Covid-19 and Pneumonia Classification with Deep Learning\n",
        "\n",
        "The task here is to develop a learning model to support doctors with diagnosing illnesses that affect patients' lungs. I will use a set of data provided that is X-rays of lung scans with examples of patients who had either pneumonia, COVID-19, or no illness. \n",
        "\n",
        "Using Keras module, I will create a classification model that outputs a diagnosis based on a patient's X-ray scan. "
      ]
    },
    {
      "cell_type": "markdown",
      "metadata": {
        "id": "6M-pRMxVpn4w"
      },
      "source": [
        "## Libraries"
      ]
    },
    {
      "cell_type": "code",
      "metadata": {
        "id": "T265DClVpr7j"
      },
      "source": [
        "import tensorflow as tf\n",
        "from tensorflow import keras\n",
        "from tensorflow.keras.models import Sequential\n",
        "from tensorflow.keras.layers import Dense, Conv2D, Flatten, Dropout, MaxPooling2D\n",
        "from tensorflow.keras.preprocessing.image import ImageDataGenerator\n",
        "from tensorflow.keras.callbacks import EarlyStopping\n",
        "from tensorflow.keras.layers import InputLayer\n",
        "\n",
        "import os\n",
        "import numpy as np\n",
        "import matplotlib.pyplot as plt"
      ],
      "execution_count": 2,
      "outputs": []
    },
    {
      "cell_type": "markdown",
      "metadata": {
        "id": "8sJGEuHTnF4s"
      },
      "source": [
        "## Importing from Google Drive\n",
        "\n",
        "The file is archived as a ZIP file in Google Drive (in the same folder as this Colab notebook). It is set as shared and the shared link used below.\n",
        "\n",
        "Note the original folder structure:\n",
        "\n",
        "* Train\n",
        "  * Covid\n",
        "  * Normal\n",
        "  * Pneumonia\n",
        "\n",
        "* Test\n",
        "  * Covid\n",
        "  * Normal\n",
        "  * Pneumonia\n",
        "\n",
        "Make sure that the sub-folders have exactly the same names (and cases, i.e. each sub-folder name starts with an uppercase letter).\n",
        "\n",
        "The images were originally stored in the structure above inside a folder named classification-challenge. This folder was compressed as a ZIP file and uploaded to Google Drive."
      ]
    },
    {
      "cell_type": "code",
      "metadata": {
        "id": "THj1TGncndkd"
      },
      "source": [
        "!pip install -U -q PyDrive\n",
        "from pydrive.auth import GoogleAuth\n",
        "from pydrive.drive import GoogleDrive\n",
        "from google.colab import auth\n",
        "from oauth2client.client import GoogleCredentials"
      ],
      "execution_count": 3,
      "outputs": []
    },
    {
      "cell_type": "code",
      "metadata": {
        "id": "vFBtICZ9DeP9"
      },
      "source": [
        "auth.authenticate_user()\n",
        "gauth = GoogleAuth()\n",
        "gauth.credentials = GoogleCredentials.get_application_default()\n",
        "drive = GoogleDrive(gauth)"
      ],
      "execution_count": 4,
      "outputs": []
    },
    {
      "cell_type": "code",
      "metadata": {
        "id": "OLFM9G20sPGy"
      },
      "source": [
        "fid = drive.ListFile({'q':\"title='Covid19-dataset.zip'\"}).GetList()[0]['id']\n",
        "f = drive.CreateFile({'id': fid})\n",
        "f.GetContentFile('Covid19-dataset.zip')"
      ],
      "execution_count": 5,
      "outputs": []
    },
    {
      "cell_type": "code",
      "metadata": {
        "colab": {
          "base_uri": "https://localhost:8080/"
        },
        "id": "cO15ipZJsu3Z",
        "outputId": "f5c67577-ffba-462d-94cf-e924d17e6d5a"
      },
      "source": [
        "f.keys()"
      ],
      "execution_count": 6,
      "outputs": [
        {
          "output_type": "execute_result",
          "data": {
            "text/plain": [
              "dict_keys(['id', 'kind', 'etag', 'selfLink', 'webContentLink', 'alternateLink', 'embedLink', 'iconLink', 'title', 'mimeType', 'labels', 'copyRequiresWriterPermission', 'createdDate', 'modifiedDate', 'modifiedByMeDate', 'markedViewedByMeDate', 'version', 'parents', 'downloadUrl', 'userPermission', 'originalFilename', 'fileExtension', 'md5Checksum', 'fileSize', 'quotaBytesUsed', 'ownerNames', 'owners', 'lastModifyingUserName', 'lastModifyingUser', 'capabilities', 'editable', 'copyable', 'writersCanShare', 'shared', 'explicitlyTrashed', 'appDataContents', 'headRevisionId', 'spaces'])"
            ]
          },
          "metadata": {
            "tags": []
          },
          "execution_count": 6
        }
      ]
    },
    {
      "cell_type": "code",
      "metadata": {
        "colab": {
          "base_uri": "https://localhost:8080/"
        },
        "id": "ekoi2nFms3xI",
        "outputId": "8da9d9b9-822b-4f94-f32d-f444c76a3c20"
      },
      "source": [
        "!unzip Covid19-dataset.zip"
      ],
      "execution_count": 7,
      "outputs": [
        {
          "output_type": "stream",
          "text": [
            "Archive:  Covid19-dataset.zip\n",
            "   creating: Covid19-dataset/\n",
            "  inflating: Covid19-dataset/.DS_Store  \n",
            "   creating: Covid19-dataset/test/\n",
            "  inflating: Covid19-dataset/test/.DS_Store  \n",
            "   creating: Covid19-dataset/test/Pneumonia/\n",
            "  inflating: Covid19-dataset/test/Pneumonia/59.png  \n",
            "  inflating: Covid19-dataset/test/Pneumonia/14.png  \n",
            "  inflating: Covid19-dataset/test/Pneumonia/29.png  \n",
            "  inflating: Covid19-dataset/test/Pneumonia/12.png  \n",
            "  inflating: Covid19-dataset/test/Pneumonia/21.png  \n",
            "  inflating: Covid19-dataset/test/Pneumonia/20.png  \n",
            "  inflating: Covid19-dataset/test/Pneumonia/27.png  \n",
            "  inflating: Covid19-dataset/test/Pneumonia/33.png  \n",
            "  inflating: Covid19-dataset/test/Pneumonia/18.png  \n",
            "  inflating: Covid19-dataset/test/Pneumonia/31.png  \n",
            "  inflating: Covid19-dataset/test/Pneumonia/19.png  \n",
            "  inflating: Covid19-dataset/test/Pneumonia/43.png  \n",
            "  inflating: Covid19-dataset/test/Pneumonia/54.png  \n",
            "  inflating: Covid19-dataset/test/Pneumonia/6.png  \n",
            "  inflating: Covid19-dataset/test/Pneumonia/44.png  \n",
            "  inflating: Covid19-dataset/test/Pneumonia/50.png  \n",
            "  inflating: Covid19-dataset/test/Pneumonia/51.png  \n",
            "  inflating: Covid19-dataset/test/Pneumonia/45.png  \n",
            "  inflating: Covid19-dataset/test/Pneumonia/52.png  \n",
            "  inflating: Covid19-dataset/test/Pneumonia/0.png  \n",
            "   creating: Covid19-dataset/test/Normal/\n",
            "  inflating: Covid19-dataset/test/Normal/62.png  \n",
            "  inflating: Covid19-dataset/test/Normal/61.png  \n",
            "  inflating: Covid19-dataset/test/Normal/28.png  \n",
            "  inflating: Covid19-dataset/test/Normal/17.png  \n",
            "  inflating: Covid19-dataset/test/Normal/13.png  \n",
            "  inflating: Covid19-dataset/test/Normal/39.png  \n",
            "  inflating: Covid19-dataset/test/Normal/11.png  \n",
            "  inflating: Covid19-dataset/test/Normal/10.png  \n",
            "  inflating: Covid19-dataset/test/Normal/35.png  \n",
            "  inflating: Covid19-dataset/test/Normal/34.png  \n",
            "  inflating: Covid19-dataset/test/Normal/22.png  \n",
            "  inflating: Covid19-dataset/test/Normal/36.png  \n",
            "  inflating: Covid19-dataset/test/Normal/37.png  \n",
            "  inflating: Covid19-dataset/test/Normal/23.png  \n",
            "  inflating: Covid19-dataset/test/Normal/32.png  \n",
            "  inflating: Covid19-dataset/test/Normal/4.png  \n",
            "  inflating: Covid19-dataset/test/Normal/5.png  \n",
            "  inflating: Covid19-dataset/test/Normal/57.png  \n",
            "  inflating: Covid19-dataset/test/Normal/3.png  \n",
            "  inflating: Covid19-dataset/test/Normal/1.png  \n",
            "   creating: Covid19-dataset/test/Covid/\n",
            "  inflating: Covid19-dataset/test/Covid/63.png  \n",
            "  inflating: Covid19-dataset/test/Covid/60.png  \n",
            "  inflating: Covid19-dataset/test/Covid/48.png  \n",
            "  inflating: Covid19-dataset/test/Covid/49.png  \n",
            "  inflating: Covid19-dataset/test/Covid/65.png  \n",
            "  inflating: Covid19-dataset/test/Covid/64.png  \n",
            "  inflating: Covid19-dataset/test/Covid/58.png  \n",
            "  inflating: Covid19-dataset/test/Covid/8.png  \n",
            "  inflating: Covid19-dataset/test/Covid/9.png  \n",
            "  inflating: Covid19-dataset/test/Covid/15.png  \n",
            "  inflating: Covid19-dataset/test/Covid/16.png  \n",
            "  inflating: Covid19-dataset/test/Covid/38.png  \n",
            "  inflating: Covid19-dataset/test/Covid/26.png  \n",
            "  inflating: Covid19-dataset/test/Covid/30.png  \n",
            "  inflating: Covid19-dataset/test/Covid/24.png  \n",
            "  inflating: Covid19-dataset/test/Covid/25.png  \n",
            "  inflating: Covid19-dataset/test/Covid/56.png  \n",
            "  inflating: Covid19-dataset/test/Covid/42.png  \n",
            "  inflating: Covid19-dataset/test/Covid/41.png  \n",
            "  inflating: Covid19-dataset/test/Covid/55.png  \n",
            "  inflating: Covid19-dataset/test/Covid/7.png  \n",
            "  inflating: Covid19-dataset/test/Covid/40.png  \n",
            "  inflating: Covid19-dataset/test/Covid/2.png  \n",
            "  inflating: Covid19-dataset/test/Covid/53.png  \n",
            "  inflating: Covid19-dataset/test/Covid/47.png  \n",
            "  inflating: Covid19-dataset/test/Covid/46.png  \n",
            "   creating: Covid19-dataset/train/\n",
            "  inflating: Covid19-dataset/train/.DS_Store  \n",
            "   creating: Covid19-dataset/train/Pneumonia/\n",
            "  inflating: Covid19-dataset/train/Pneumonia/162.png  \n",
            "  inflating: Covid19-dataset/train/Pneumonia/77.png  \n",
            "  inflating: Covid19-dataset/train/Pneumonia/201.png  \n",
            "  inflating: Covid19-dataset/train/Pneumonia/229.png  \n",
            "  inflating: Covid19-dataset/train/Pneumonia/188.png  \n",
            "  inflating: Covid19-dataset/train/Pneumonia/149.png  \n",
            "  inflating: Covid19-dataset/train/Pneumonia/74.png  \n",
            "  inflating: Covid19-dataset/train/Pneumonia/217.png  \n",
            "  inflating: Covid19-dataset/train/Pneumonia/202.png  \n",
            "  inflating: Covid19-dataset/train/Pneumonia/49.png  \n",
            "  inflating: Covid19-dataset/train/Pneumonia/75.png  \n",
            "  inflating: Covid19-dataset/train/Pneumonia/61.png  \n",
            "  inflating: Covid19-dataset/train/Pneumonia/174.png  \n",
            "  inflating: Covid19-dataset/train/Pneumonia/148.png  \n",
            "  inflating: Covid19-dataset/train/Pneumonia/170.png  \n",
            "  inflating: Covid19-dataset/train/Pneumonia/158.png  \n",
            "  inflating: Covid19-dataset/train/Pneumonia/65.png  \n",
            "  inflating: Covid19-dataset/train/Pneumonia/207.png  \n",
            "  inflating: Covid19-dataset/train/Pneumonia/99.png  \n",
            "  inflating: Covid19-dataset/train/Pneumonia/205.png  \n",
            "  inflating: Covid19-dataset/train/Pneumonia/210.png  \n",
            "  inflating: Covid19-dataset/train/Pneumonia/166.png  \n",
            "  inflating: Covid19-dataset/train/Pneumonia/115.png  \n",
            "  inflating: Covid19-dataset/train/Pneumonia/114.png  \n",
            "  inflating: Covid19-dataset/train/Pneumonia/13.png  \n",
            "  inflating: Covid19-dataset/train/Pneumonia/105.png  \n",
            "  inflating: Covid19-dataset/train/Pneumonia/111.png  \n",
            "  inflating: Covid19-dataset/train/Pneumonia/35.png  \n",
            "  inflating: Covid19-dataset/train/Pneumonia/109.png  \n",
            "  inflating: Covid19-dataset/train/Pneumonia/36.png  \n",
            "  inflating: Covid19-dataset/train/Pneumonia/241.png  \n",
            "  inflating: Covid19-dataset/train/Pneumonia/132.png  \n",
            "  inflating: Covid19-dataset/train/Pneumonia/27.png  \n",
            "  inflating: Covid19-dataset/train/Pneumonia/33.png  \n",
            "  inflating: Covid19-dataset/train/Pneumonia/244.png  \n",
            "  inflating: Covid19-dataset/train/Pneumonia/119.png  \n",
            "  inflating: Covid19-dataset/train/Pneumonia/30.png  \n",
            "  inflating: Covid19-dataset/train/Pneumonia/24.png  \n",
            "  inflating: Covid19-dataset/train/Pneumonia/25.png  \n",
            "  inflating: Covid19-dataset/train/Pneumonia/118.png  \n",
            "  inflating: Covid19-dataset/train/Pneumonia/194.png  \n",
            "  inflating: Covid19-dataset/train/Pneumonia/209.png  \n",
            "  inflating: Covid19-dataset/train/Pneumonia/220.png  \n",
            "  inflating: Covid19-dataset/train/Pneumonia/195.png  \n",
            "  inflating: Covid19-dataset/train/Pneumonia/43.png  \n",
            "  inflating: Covid19-dataset/train/Pneumonia/5.png  \n",
            "  inflating: Covid19-dataset/train/Pneumonia/57.png  \n",
            "  inflating: Covid19-dataset/train/Pneumonia/142.png  \n",
            "  inflating: Covid19-dataset/train/Pneumonia/94.png  \n",
            "  inflating: Covid19-dataset/train/Pneumonia/140.png  \n",
            "  inflating: Covid19-dataset/train/Pneumonia/183.png  \n",
            "  inflating: Covid19-dataset/train/Pneumonia/236.png  \n",
            "  inflating: Covid19-dataset/train/Pneumonia/222.png  \n",
            "  inflating: Covid19-dataset/train/Pneumonia/223.png  \n",
            "  inflating: Covid19-dataset/train/Pneumonia/237.png  \n",
            "  inflating: Covid19-dataset/train/Pneumonia/68.png  \n",
            "  inflating: Covid19-dataset/train/Pneumonia/40.png  \n",
            "  inflating: Covid19-dataset/train/Pneumonia/169.png  \n",
            "  inflating: Covid19-dataset/train/Pneumonia/83.png  \n",
            "  inflating: Covid19-dataset/train/Pneumonia/192.png  \n",
            "  inflating: Covid19-dataset/train/Pneumonia/227.png  \n",
            "  inflating: Covid19-dataset/train/Pneumonia/226.png  \n",
            "  inflating: Covid19-dataset/train/Pneumonia/51.png  \n",
            "  inflating: Covid19-dataset/train/Pneumonia/178.png  \n",
            "  inflating: Covid19-dataset/train/Pneumonia/150.png  \n",
            "  inflating: Covid19-dataset/train/Pneumonia/191.png  \n",
            "  inflating: Covid19-dataset/train/Pneumonia/47.png  \n",
            "  inflating: Covid19-dataset/train/Pneumonia/46.png  \n",
            "  inflating: Covid19-dataset/train/Pneumonia/0.png  \n",
            "  inflating: Covid19-dataset/train/Pneumonia/153.png  \n",
            "   creating: Covid19-dataset/train/Normal/\n",
            "  inflating: Covid19-dataset/train/Normal/215.png  \n",
            "  inflating: Covid19-dataset/train/Normal/62.png  \n",
            "  inflating: Covid19-dataset/train/Normal/76.png  \n",
            "  inflating: Covid19-dataset/train/Normal/177.png  \n",
            "  inflating: Covid19-dataset/train/Normal/89.png  \n",
            "  inflating: Covid19-dataset/train/Normal/175.png  \n",
            "  inflating: Covid19-dataset/train/Normal/164.png  \n",
            "  inflating: Covid19-dataset/train/Normal/212.png  \n",
            "  inflating: Covid19-dataset/train/Normal/213.png  \n",
            "  inflating: Covid19-dataset/train/Normal/171.png  \n",
            "  inflating: Covid19-dataset/train/Normal/173.png  \n",
            "  inflating: Covid19-dataset/train/Normal/66.png  \n",
            "  inflating: Covid19-dataset/train/Normal/238.png  \n",
            "  inflating: Covid19-dataset/train/Normal/199.png  \n",
            "  inflating: Covid19-dataset/train/Normal/9.png  \n",
            "  inflating: Covid19-dataset/train/Normal/98.png  \n",
            "  inflating: Covid19-dataset/train/Normal/172.png  \n",
            "  inflating: Covid19-dataset/train/Normal/14.png  \n",
            "  inflating: Covid19-dataset/train/Normal/15.png  \n",
            "  inflating: Covid19-dataset/train/Normal/128.png  \n",
            "  inflating: Covid19-dataset/train/Normal/116.png  \n",
            "  inflating: Covid19-dataset/train/Normal/248.png  \n",
            "  inflating: Covid19-dataset/train/Normal/16.png  \n",
            "  inflating: Covid19-dataset/train/Normal/103.png  \n",
            "  inflating: Covid19-dataset/train/Normal/113.png  \n",
            "  inflating: Covid19-dataset/train/Normal/106.png  \n",
            "  inflating: Covid19-dataset/train/Normal/138.png  \n",
            "  inflating: Covid19-dataset/train/Normal/21.png  \n",
            "  inflating: Covid19-dataset/train/Normal/242.png  \n",
            "  inflating: Covid19-dataset/train/Normal/34.png  \n",
            "  inflating: Covid19-dataset/train/Normal/135.png  \n",
            "  inflating: Covid19-dataset/train/Normal/23.png  \n",
            "  inflating: Covid19-dataset/train/Normal/122.png  \n",
            "  inflating: Covid19-dataset/train/Normal/126.png  \n",
            "  inflating: Covid19-dataset/train/Normal/133.png  \n",
            "  inflating: Covid19-dataset/train/Normal/131.png  \n",
            "  inflating: Covid19-dataset/train/Normal/125.png  \n",
            "  inflating: Covid19-dataset/train/Normal/246.png  \n",
            "  inflating: Covid19-dataset/train/Normal/19.png  \n",
            "  inflating: Covid19-dataset/train/Normal/130.png  \n",
            "  inflating: Covid19-dataset/train/Normal/95.png  \n",
            "  inflating: Covid19-dataset/train/Normal/157.png  \n",
            "  inflating: Covid19-dataset/train/Normal/4.png  \n",
            "  inflating: Covid19-dataset/train/Normal/180.png  \n",
            "  inflating: Covid19-dataset/train/Normal/208.png  \n",
            "  inflating: Covid19-dataset/train/Normal/181.png  \n",
            "  inflating: Covid19-dataset/train/Normal/168.png  \n",
            "  inflating: Covid19-dataset/train/Normal/41.png  \n",
            "  inflating: Covid19-dataset/train/Normal/55.png  \n",
            "  inflating: Covid19-dataset/train/Normal/6.png  \n",
            "  inflating: Covid19-dataset/train/Normal/151.png  \n",
            "  inflating: Covid19-dataset/train/Normal/78.png  \n",
            "  inflating: Covid19-dataset/train/Normal/50.png  \n",
            "  inflating: Covid19-dataset/train/Normal/233.png  \n",
            "  inflating: Covid19-dataset/train/Normal/232.png  \n",
            "  inflating: Covid19-dataset/train/Normal/3.png  \n",
            "  inflating: Covid19-dataset/train/Normal/45.png  \n",
            "  inflating: Covid19-dataset/train/Normal/187.png  \n",
            "  inflating: Covid19-dataset/train/Normal/86.png  \n",
            "  inflating: Covid19-dataset/train/Normal/144.png  \n",
            "  inflating: Covid19-dataset/train/Normal/152.png  \n",
            "  inflating: Covid19-dataset/train/Normal/185.png  \n",
            "  inflating: Covid19-dataset/train/Normal/53.png  \n",
            "  inflating: Covid19-dataset/train/Normal/1.png  \n",
            "  inflating: Covid19-dataset/train/Normal/230.png  \n",
            "  inflating: Covid19-dataset/train/Normal/225.png  \n",
            "  inflating: Covid19-dataset/train/Normal/184.png  \n",
            "  inflating: Covid19-dataset/train/Normal/190.png  \n",
            "  inflating: Covid19-dataset/train/Normal/91.png  \n",
            "  inflating: Covid19-dataset/train/Normal/147.png  \n",
            "   creating: Covid19-dataset/train/Covid/\n",
            "  inflating: Covid19-dataset/train/Covid/176.png  \n",
            "  inflating: Covid19-dataset/train/Covid/88.png  \n",
            "  inflating: Covid19-dataset/train/Covid/189.png  \n",
            "  inflating: Covid19-dataset/train/Covid/63.png  \n",
            "  inflating: Covid19-dataset/train/Covid/228.png  \n",
            "  inflating: Covid19-dataset/train/Covid/200.png  \n",
            "  inflating: Covid19-dataset/train/Covid/214.png  \n",
            "  inflating: Covid19-dataset/train/Covid/163.png  \n",
            "  inflating: Covid19-dataset/train/Covid/161.png  \n",
            "  inflating: Covid19-dataset/train/Covid/60.png  \n",
            "  inflating: Covid19-dataset/train/Covid/48.png  \n",
            "  inflating: Covid19-dataset/train/Covid/203.png  \n",
            "  inflating: Covid19-dataset/train/Covid/216.png  \n",
            "  inflating: Covid19-dataset/train/Covid/160.png  \n",
            "  inflating: Covid19-dataset/train/Covid/59.png  \n",
            "  inflating: Covid19-dataset/train/Covid/71.png  \n",
            "  inflating: Covid19-dataset/train/Covid/206.png  \n",
            "  inflating: Covid19-dataset/train/Covid/70.png  \n",
            "  inflating: Covid19-dataset/train/Covid/64.png  \n",
            "  inflating: Covid19-dataset/train/Covid/58.png  \n",
            "  inflating: Covid19-dataset/train/Covid/159.png  \n",
            "  inflating: Covid19-dataset/train/Covid/165.png  \n",
            "  inflating: Covid19-dataset/train/Covid/167.png  \n",
            "  inflating: Covid19-dataset/train/Covid/8.png  \n",
            "  inflating: Covid19-dataset/train/Covid/72.png  \n",
            "  inflating: Covid19-dataset/train/Covid/198.png  \n",
            "  inflating: Covid19-dataset/train/Covid/211.png  \n",
            "  inflating: Covid19-dataset/train/Covid/239.png  \n",
            "  inflating: Covid19-dataset/train/Covid/204.png  \n",
            "  inflating: Covid19-dataset/train/Covid/67.png  \n",
            "  inflating: Covid19-dataset/train/Covid/73.png  \n",
            "  inflating: Covid19-dataset/train/Covid/129.png  \n",
            "  inflating: Covid19-dataset/train/Covid/101.png  \n",
            "  inflating: Covid19-dataset/train/Covid/28.png  \n",
            "  inflating: Covid19-dataset/train/Covid/29.png  \n",
            "  inflating: Covid19-dataset/train/Covid/100.png  \n",
            "  inflating: Covid19-dataset/train/Covid/102.png  \n",
            "  inflating: Covid19-dataset/train/Covid/17.png  \n",
            "  inflating: Covid19-dataset/train/Covid/249.png  \n",
            "  inflating: Covid19-dataset/train/Covid/117.png  \n",
            "  inflating: Covid19-dataset/train/Covid/107.png  \n",
            "  inflating: Covid19-dataset/train/Covid/12.png  \n",
            "  inflating: Covid19-dataset/train/Covid/112.png  \n",
            "  inflating: Covid19-dataset/train/Covid/110.png  \n",
            "  inflating: Covid19-dataset/train/Covid/104.png  \n",
            "  inflating: Covid19-dataset/train/Covid/39.png  \n",
            "  inflating: Covid19-dataset/train/Covid/11.png  \n",
            "  inflating: Covid19-dataset/train/Covid/10.png  \n",
            "  inflating: Covid19-dataset/train/Covid/38.png  \n",
            "  inflating: Covid19-dataset/train/Covid/139.png  \n",
            "  inflating: Covid19-dataset/train/Covid/108.png  \n",
            "  inflating: Covid19-dataset/train/Covid/134.png  \n",
            "  inflating: Covid19-dataset/train/Covid/120.png  \n",
            "  inflating: Covid19-dataset/train/Covid/243.png  \n",
            "  inflating: Covid19-dataset/train/Covid/20.png  \n",
            "  inflating: Covid19-dataset/train/Covid/121.png  \n",
            "  inflating: Covid19-dataset/train/Covid/123.png  \n",
            "  inflating: Covid19-dataset/train/Covid/137.png  \n",
            "  inflating: Covid19-dataset/train/Covid/22.png  \n",
            "  inflating: Covid19-dataset/train/Covid/240.png  \n",
            "  inflating: Covid19-dataset/train/Covid/37.png  \n",
            "  inflating: Covid19-dataset/train/Covid/136.png  \n",
            "  inflating: Covid19-dataset/train/Covid/250.png  \n",
            "  inflating: Covid19-dataset/train/Covid/245.png  \n",
            "  inflating: Covid19-dataset/train/Covid/32.png  \n",
            "  inflating: Covid19-dataset/train/Covid/26.png  \n",
            "  inflating: Covid19-dataset/train/Covid/127.png  \n",
            "  inflating: Covid19-dataset/train/Covid/18.png  \n",
            "  inflating: Covid19-dataset/train/Covid/247.png  \n",
            "  inflating: Covid19-dataset/train/Covid/31.png  \n",
            "  inflating: Covid19-dataset/train/Covid/124.png  \n",
            "  inflating: Covid19-dataset/train/Covid/81.png  \n",
            "  inflating: Covid19-dataset/train/Covid/143.png  \n",
            "  inflating: Covid19-dataset/train/Covid/56.png  \n",
            "  inflating: Covid19-dataset/train/Covid/42.png  \n",
            "  inflating: Covid19-dataset/train/Covid/221.png  \n",
            "  inflating: Covid19-dataset/train/Covid/235.png  \n",
            "  inflating: Covid19-dataset/train/Covid/234.png  \n",
            "  inflating: Covid19-dataset/train/Covid/156.png  \n",
            "  inflating: Covid19-dataset/train/Covid/80.png  \n",
            "  inflating: Covid19-dataset/train/Covid/82.png  \n",
            "  inflating: Covid19-dataset/train/Covid/96.png  \n",
            "  inflating: Covid19-dataset/train/Covid/154.png  \n",
            "  inflating: Covid19-dataset/train/Covid/7.png  \n",
            "  inflating: Covid19-dataset/train/Covid/69.png  \n",
            "  inflating: Covid19-dataset/train/Covid/197.png  \n",
            "  inflating: Covid19-dataset/train/Covid/196.png  \n",
            "  inflating: Covid19-dataset/train/Covid/182.png  \n",
            "  inflating: Covid19-dataset/train/Covid/54.png  \n",
            "  inflating: Covid19-dataset/train/Covid/155.png  \n",
            "  inflating: Covid19-dataset/train/Covid/141.png  \n",
            "  inflating: Covid19-dataset/train/Covid/97.png  \n",
            "  inflating: Covid19-dataset/train/Covid/145.png  \n",
            "  inflating: Covid19-dataset/train/Covid/87.png  \n",
            "  inflating: Covid19-dataset/train/Covid/179.png  \n",
            "  inflating: Covid19-dataset/train/Covid/93.png  \n",
            "  inflating: Covid19-dataset/train/Covid/186.png  \n",
            "  inflating: Covid19-dataset/train/Covid/44.png  \n",
            "  inflating: Covid19-dataset/train/Covid/2.png  \n",
            "  inflating: Covid19-dataset/train/Covid/193.png  \n",
            "  inflating: Covid19-dataset/train/Covid/79.png  \n",
            "  inflating: Covid19-dataset/train/Covid/92.png  \n",
            "  inflating: Covid19-dataset/train/Covid/146.png  \n",
            "  inflating: Covid19-dataset/train/Covid/90.png  \n",
            "  inflating: Covid19-dataset/train/Covid/84.png  \n",
            "  inflating: Covid19-dataset/train/Covid/224.png  \n",
            "  inflating: Covid19-dataset/train/Covid/218.png  \n",
            "  inflating: Covid19-dataset/train/Covid/219.png  \n",
            "  inflating: Covid19-dataset/train/Covid/231.png  \n",
            "  inflating: Covid19-dataset/train/Covid/52.png  \n",
            "  inflating: Covid19-dataset/train/Covid/85.png  \n"
          ],
          "name": "stdout"
        }
      ]
    },
    {
      "cell_type": "code",
      "metadata": {
        "id": "KXMftfEVtEMx"
      },
      "source": [
        "PATH = '/content/Covid19-dataset'"
      ],
      "execution_count": 8,
      "outputs": []
    },
    {
      "cell_type": "code",
      "metadata": {
        "colab": {
          "base_uri": "https://localhost:8080/"
        },
        "id": "LIwdlPo6tK3I",
        "outputId": "8dfe53bc-6554-4f03-d0d8-ac0a932f6f1c"
      },
      "source": [
        "os.listdir(PATH)"
      ],
      "execution_count": 9,
      "outputs": [
        {
          "output_type": "execute_result",
          "data": {
            "text/plain": [
              "['.DS_Store', 'train', 'test']"
            ]
          },
          "metadata": {
            "tags": []
          },
          "execution_count": 9
        }
      ]
    },
    {
      "cell_type": "code",
      "metadata": {
        "id": "L31DVs9awgvL"
      },
      "source": [
        "train_dir = os.path.join(PATH,\n",
        "                         'train')\n",
        "test_dir = os.path.join(PATH,\n",
        "                        'test')"
      ],
      "execution_count": 10,
      "outputs": []
    },
    {
      "cell_type": "code",
      "metadata": {
        "id": "VK024475wjTq"
      },
      "source": [
        "train_covid_dir = os.path.join(train_dir,\n",
        "                                'Covid')\n",
        "train_normal_dir = os.path.join(train_dir,\n",
        "                                   'Normal')\n",
        "train_pneumonia_dir = os.path.join(train_dir,\n",
        "                               'Pneumonia')\n",
        "\n",
        "test_covid_dir = os.path.join(test_dir,\n",
        "                               'Covid')\n",
        "test_normal_dir = os.path.join(test_dir,\n",
        "                                  'Normal')\n",
        "test_pneumonia_dir = os.path.join(test_dir,\n",
        "                              'Pneumonia')"
      ],
      "execution_count": 11,
      "outputs": []
    },
    {
      "cell_type": "code",
      "metadata": {
        "colab": {
          "base_uri": "https://localhost:8080/"
        },
        "id": "Task8ubDw79q",
        "outputId": "69a32e48-d0a8-4e28-f9ab-a4b9bd69f41d"
      },
      "source": [
        "len(os.listdir(train_covid_dir))"
      ],
      "execution_count": 12,
      "outputs": [
        {
          "output_type": "execute_result",
          "data": {
            "text/plain": [
              "111"
            ]
          },
          "metadata": {
            "tags": []
          },
          "execution_count": 12
        }
      ]
    },
    {
      "cell_type": "code",
      "metadata": {
        "colab": {
          "base_uri": "https://localhost:8080/"
        },
        "id": "XC8FxirG1H85",
        "outputId": "782dd3de-31f3-42b4-e738-67d335d367cd"
      },
      "source": [
        "len(os.listdir(train_pneumonia_dir ))"
      ],
      "execution_count": 13,
      "outputs": [
        {
          "output_type": "execute_result",
          "data": {
            "text/plain": [
              "70"
            ]
          },
          "metadata": {
            "tags": []
          },
          "execution_count": 13
        }
      ]
    },
    {
      "cell_type": "code",
      "metadata": {
        "colab": {
          "base_uri": "https://localhost:8080/"
        },
        "id": "lwKGCXqH1S7P",
        "outputId": "8108e7b8-4d0e-4910-a269-0c71a55d56c5"
      },
      "source": [
        "len(os.listdir(train_normal_dir ))"
      ],
      "execution_count": 14,
      "outputs": [
        {
          "output_type": "execute_result",
          "data": {
            "text/plain": [
              "70"
            ]
          },
          "metadata": {
            "tags": []
          },
          "execution_count": 14
        }
      ]
    },
    {
      "cell_type": "markdown",
      "metadata": {
        "id": "zjU0eacxzLD5"
      },
      "source": [
        "## Preparing Data"
      ]
    },
    {
      "cell_type": "code",
      "metadata": {
        "id": "LodLmoJ5zNlz"
      },
      "source": [
        "IMG_HEIGHT = 212\n",
        "IMG_WIDTH = 212\n",
        "batch_size = 32"
      ],
      "execution_count": 15,
      "outputs": []
    },
    {
      "cell_type": "code",
      "metadata": {
        "id": "8_T9hIf50jZI"
      },
      "source": [
        "image_gen = ImageDataGenerator(\n",
        "    rescale=1./255\n",
        "    )"
      ],
      "execution_count": 16,
      "outputs": []
    },
    {
      "cell_type": "code",
      "metadata": {
        "colab": {
          "base_uri": "https://localhost:8080/"
        },
        "id": "sDxeo7vq0lzj",
        "outputId": "5bb05bfc-f1cd-4f97-c20c-74a5648d69fb"
      },
      "source": [
        "train_data_gen = image_gen.flow_from_directory(\n",
        "    #batch_size=batch_size,\n",
        "    directory=train_dir,\n",
        "    shuffle=True,\n",
        "    target_size=(IMG_HEIGHT, IMG_WIDTH),\n",
        "    class_mode='categorical')"
      ],
      "execution_count": 17,
      "outputs": [
        {
          "output_type": "stream",
          "text": [
            "Found 251 images belonging to 3 classes.\n"
          ],
          "name": "stdout"
        }
      ]
    },
    {
      "cell_type": "code",
      "metadata": {
        "colab": {
          "base_uri": "https://localhost:8080/"
        },
        "id": "SSWzRHSx0pCl",
        "outputId": "47396dd7-d4c3-4fda-a54c-d108a710ae35"
      },
      "source": [
        "test_data_gen = image_gen.flow_from_directory(\n",
        "    #batch_size=batch_size,\n",
        "    directory=test_dir,\n",
        "    target_size=(IMG_HEIGHT, IMG_WIDTH),\n",
        "    class_mode='categorical')"
      ],
      "execution_count": 18,
      "outputs": [
        {
          "output_type": "stream",
          "text": [
            "Found 66 images belonging to 3 classes.\n"
          ],
          "name": "stdout"
        }
      ]
    },
    {
      "cell_type": "markdown",
      "metadata": {
        "id": "8dO2YmEt1nXx"
      },
      "source": [
        "## Building Model"
      ]
    },
    {
      "cell_type": "code",
      "metadata": {
        "id": "ahILieTj1nBY"
      },
      "source": [
        "model = Sequential()"
      ],
      "execution_count": 19,
      "outputs": []
    },
    {
      "cell_type": "code",
      "metadata": {
        "colab": {
          "base_uri": "https://localhost:8080/"
        },
        "id": "GfcjprT01r_x",
        "outputId": "f15302e9-d800-4d74-f782-143cf10aae9f"
      },
      "source": [
        "test_data_gen.image_shape"
      ],
      "execution_count": 20,
      "outputs": [
        {
          "output_type": "execute_result",
          "data": {
            "text/plain": [
              "(212, 212, 3)"
            ]
          },
          "metadata": {
            "tags": []
          },
          "execution_count": 20
        }
      ]
    },
    {
      "cell_type": "code",
      "metadata": {
        "id": "5M17hAXz20i_"
      },
      "source": [
        "model.add(InputLayer(input_shape=(212, 212, 3)))\n",
        "model.add(Conv2D(32, 3, padding='same', activation='relu'))\n",
        "model.add(MaxPooling2D())\n",
        "model.add(Dropout(0.2))\n",
        "model.add(Conv2D(128, 3, padding='same', activation='relu'))\n",
        "model.add(MaxPooling2D())\n",
        "model.add(Dropout(0.2))\n",
        "model.add(Conv2D(128, 3, padding='same', activation='relu'))\n",
        "model.add(MaxPooling2D())\n",
        "model.add(Dropout(0.2))\n",
        "model.add(Flatten())\n",
        "model.add(Dense(512, activation='relu'))\n",
        "model.add(Dense(3, activation='softmax'))"
      ],
      "execution_count": 21,
      "outputs": []
    },
    {
      "cell_type": "code",
      "metadata": {
        "id": "R_0R87bW5642"
      },
      "source": [
        "model.compile(optimizer=tf.keras.optimizers.Adam(learning_rate=0.005),\n",
        "              loss=tf.keras.losses.CategoricalCrossentropy(),\n",
        "              metrics=[tf.keras.metrics.CategoricalAccuracy(),tf.keras.metrics.AUC()]\n",
        "              )"
      ],
      "execution_count": 22,
      "outputs": []
    },
    {
      "cell_type": "code",
      "metadata": {
        "colab": {
          "base_uri": "https://localhost:8080/"
        },
        "id": "yaCj6aut6uCm",
        "outputId": "9ac00e57-7e30-4966-b13e-dc45e0b216c2"
      },
      "source": [
        "model.summary()"
      ],
      "execution_count": 23,
      "outputs": [
        {
          "output_type": "stream",
          "text": [
            "Model: \"sequential\"\n",
            "_________________________________________________________________\n",
            "Layer (type)                 Output Shape              Param #   \n",
            "=================================================================\n",
            "conv2d (Conv2D)              (None, 212, 212, 32)      896       \n",
            "_________________________________________________________________\n",
            "max_pooling2d (MaxPooling2D) (None, 106, 106, 32)      0         \n",
            "_________________________________________________________________\n",
            "dropout (Dropout)            (None, 106, 106, 32)      0         \n",
            "_________________________________________________________________\n",
            "conv2d_1 (Conv2D)            (None, 106, 106, 128)     36992     \n",
            "_________________________________________________________________\n",
            "max_pooling2d_1 (MaxPooling2 (None, 53, 53, 128)       0         \n",
            "_________________________________________________________________\n",
            "dropout_1 (Dropout)          (None, 53, 53, 128)       0         \n",
            "_________________________________________________________________\n",
            "conv2d_2 (Conv2D)            (None, 53, 53, 128)       147584    \n",
            "_________________________________________________________________\n",
            "max_pooling2d_2 (MaxPooling2 (None, 26, 26, 128)       0         \n",
            "_________________________________________________________________\n",
            "dropout_2 (Dropout)          (None, 26, 26, 128)       0         \n",
            "_________________________________________________________________\n",
            "flatten (Flatten)            (None, 86528)             0         \n",
            "_________________________________________________________________\n",
            "dense (Dense)                (None, 512)               44302848  \n",
            "_________________________________________________________________\n",
            "dense_1 (Dense)              (None, 3)                 1539      \n",
            "=================================================================\n",
            "Total params: 44,489,859\n",
            "Trainable params: 44,489,859\n",
            "Non-trainable params: 0\n",
            "_________________________________________________________________\n"
          ],
          "name": "stdout"
        }
      ]
    },
    {
      "cell_type": "markdown",
      "metadata": {
        "id": "SiDjlmr46-zV"
      },
      "source": [
        "## Training the Model"
      ]
    },
    {
      "cell_type": "code",
      "metadata": {
        "id": "PB1As0jf6-aE"
      },
      "source": [
        "batch_size = 32\n",
        "epochs = 20"
      ],
      "execution_count": 24,
      "outputs": []
    },
    {
      "cell_type": "code",
      "metadata": {
        "id": "YRl-k3sX7Dk2"
      },
      "source": [
        "num_normal_train = len(os.listdir(train_normal_dir))\n",
        "num_covid_train = len(os.listdir(train_covid_dir))\n",
        "num_pneumonia_train = len(os.listdir(train_pneumonia_dir))\n",
        "\n",
        "num_normal_test = len(os.listdir(test_normal_dir))\n",
        "num_covid_test = len(os.listdir(test_covid_dir))\n",
        "num_pneumonia_test = len(os.listdir(test_pneumonia_dir))\n",
        "\n",
        "total_train = num_normal_train + num_covid_train + num_pneumonia_train\n",
        "total_test = num_normal_test + num_covid_test + num_pneumonia_test"
      ],
      "execution_count": 25,
      "outputs": []
    },
    {
      "cell_type": "code",
      "metadata": {
        "colab": {
          "base_uri": "https://localhost:8080/"
        },
        "id": "2WJN--J48HMq",
        "outputId": "74b33d8f-b55c-4571-c6ce-e94e2c8da256"
      },
      "source": [
        "history = model.fit(\n",
        "    train_data_gen,\n",
        "    steps_per_epoch=total_train // batch_size,\n",
        "    epochs=epochs,\n",
        "    validation_data=test_data_gen,\n",
        "    validation_steps=total_test // batch_size,\n",
        "    callbacks = [tf.keras.callbacks.EarlyStopping(\n",
        "        monitor='val_loss',\n",
        "        min_delta=0.01,\n",
        "        patience=7\n",
        "    )]\n",
        ")"
      ],
      "execution_count": 28,
      "outputs": [
        {
          "output_type": "stream",
          "text": [
            "Epoch 1/20\n",
            "7/7 [==============================] - 1s 164ms/step - loss: 0.0835 - categorical_accuracy: 0.9772 - auc: 0.9980 - val_loss: 0.7443 - val_categorical_accuracy: 0.8438 - val_auc: 0.9405\n",
            "Epoch 2/20\n",
            "7/7 [==============================] - 1s 141ms/step - loss: 1.8295 - categorical_accuracy: 0.8995 - auc: 0.9386 - val_loss: 1.5272 - val_categorical_accuracy: 0.6875 - val_auc: 0.8670\n",
            "Epoch 3/20\n",
            "7/7 [==============================] - 1s 145ms/step - loss: 1.3239 - categorical_accuracy: 0.8128 - auc: 0.9177 - val_loss: 0.5870 - val_categorical_accuracy: 0.8594 - val_auc: 0.9473\n",
            "Epoch 4/20\n",
            "7/7 [==============================] - 1s 140ms/step - loss: 0.2066 - categorical_accuracy: 0.9269 - auc: 0.9909 - val_loss: 0.9789 - val_categorical_accuracy: 0.7812 - val_auc: 0.8855\n",
            "Epoch 5/20\n",
            "7/7 [==============================] - 1s 139ms/step - loss: 0.2936 - categorical_accuracy: 0.9406 - auc: 0.9760 - val_loss: 1.1974 - val_categorical_accuracy: 0.7188 - val_auc: 0.8575\n",
            "Epoch 6/20\n",
            "7/7 [==============================] - 1s 140ms/step - loss: 0.2442 - categorical_accuracy: 0.9330 - auc: 0.9858 - val_loss: 1.1938 - val_categorical_accuracy: 0.7031 - val_auc: 0.8755\n",
            "Epoch 7/20\n",
            "7/7 [==============================] - 1s 140ms/step - loss: 0.2420 - categorical_accuracy: 0.9452 - auc: 0.9781 - val_loss: 0.6937 - val_categorical_accuracy: 0.8125 - val_auc: 0.9134\n",
            "Epoch 8/20\n",
            "7/7 [==============================] - 1s 140ms/step - loss: 0.1581 - categorical_accuracy: 0.9361 - auc: 0.9929 - val_loss: 0.5911 - val_categorical_accuracy: 0.8906 - val_auc: 0.9437\n",
            "Epoch 9/20\n",
            "7/7 [==============================] - 1s 138ms/step - loss: 0.0997 - categorical_accuracy: 0.9554 - auc: 0.9944 - val_loss: 0.6645 - val_categorical_accuracy: 0.8750 - val_auc: 0.9404\n",
            "Epoch 10/20\n",
            "7/7 [==============================] - 1s 137ms/step - loss: 0.0417 - categorical_accuracy: 0.9817 - auc: 0.9997 - val_loss: 0.7743 - val_categorical_accuracy: 0.8750 - val_auc: 0.9360\n"
          ],
          "name": "stdout"
        }
      ]
    },
    {
      "cell_type": "code",
      "metadata": {
        "colab": {
          "base_uri": "https://localhost:8080/",
          "height": 295
        },
        "id": "3ngvE6-n-Ie3",
        "outputId": "43b2bde1-5bea-4d7f-a185-aa453da57b3d"
      },
      "source": [
        "fig = plt.figure()\n",
        "ax1 = fig.add_subplot(2, 1, 1)\n",
        "ax1.plot(history.history['categorical_accuracy'])\n",
        "ax1.plot(history.history['val_categorical_accuracy'])\n",
        "ax1.set_title('model accuracy')\n",
        "ax1.set_xlabel('epoch')\n",
        "ax1.set_ylabel('accuracy')\n",
        "ax1.legend(['train', 'validation'], loc='upper left')\n",
        "\n",
        "\n",
        "# plotting auc and validation auc over epochs\n",
        "ax2 = fig.add_subplot(2, 1, 2)\n",
        "ax2.plot(history.history['auc'])\n",
        "ax2.plot(history.history['val_auc'])\n",
        "ax2.set_title('model auc')\n",
        "ax2.set_xlabel('epoch')\n",
        "ax2.set_ylabel('auc')\n",
        "ax2.legend(['train', 'validation'], loc='upper left')\n",
        "\n",
        "plt.show()"
      ],
      "execution_count": 30,
      "outputs": [
        {
          "output_type": "display_data",
          "data": {
            "image/png": "[encoded data removed]",
            "text/plain": [
              "<Figure size 432x288 with 2 Axes>"
            ]
          },
          "metadata": {
            "tags": [],
            "needs_background": "light"
          }
        }
      ]
    },
    {
      "cell_type": "markdown",
      "metadata": {
        "id": "M5RuO_nS-3W3"
      },
      "source": [
        "## Results\n",
        "\n",
        "The model resulted in a accuracy of of over 87% with the validation data. "
      ]
    }
  ]
}